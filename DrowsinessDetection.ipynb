{
 "cells": [
  {
   "cell_type": "markdown",
   "id": "aa59efc2",
   "metadata": {},
   "source": [
    "# Drowsiness Detection"
   ]
  },
  {
   "cell_type": "markdown",
   "id": "aca2da18",
   "metadata": {},
   "source": [
    "<p>This project uses the Drowsiness Detection Dataset from kaggle and tries to correctly detect drowsiness to avoid accidents while driving. </p>"
   ]
  },
  {
   "cell_type": "markdown",
   "id": "3c4cd51e",
   "metadata": {},
   "source": [
    "### Getting Started:"
   ]
  },
  {
   "cell_type": "markdown",
   "id": "3b6390c1",
   "metadata": {},
   "source": [
    "- First we need to convert the raw images present in our dataset to a usable tabular format."
   ]
  },
  {
   "cell_type": "code",
   "execution_count": 6,
   "id": "f5f3e8b1",
   "metadata": {},
   "outputs": [
    {
     "name": "stdout",
     "output_type": "stream",
     "text": [
      "Requirement already satisfied: numpy in d:\\projects\\drowsiness_detection\\drowsy_env\\lib\\site-packages (1.25.1)\n"
     ]
    }
   ],
   "source": [
    "! python -m pip install numpy"
   ]
  },
  {
   "cell_type": "code",
   "execution_count": 1,
   "id": "345dae62",
   "metadata": {
    "scrolled": true
   },
   "outputs": [],
   "source": [
    "import os\n",
    "import cv2\n",
    "import pandas as pd\n",
    "import numpy as np"
   ]
  },
  {
   "cell_type": "code",
   "execution_count": 2,
   "id": "5ed3a16d",
   "metadata": {},
   "outputs": [],
   "source": [
    "def load_data(folder, label):\n",
    "    data = []\n",
    "    for filename in os.listdir(folder):\n",
    "        img_path = os.path.join(folder, filename)\n",
    "        image = cv2.imread(img_path)\n",
    "        image = cv2.resize(image, (224, 224))\n",
    "        image = image / 255.0  # Normalize pixel values to [0, 1]\n",
    "        data.append((image, label))\n",
    "    return data"
   ]
  },
  {
   "cell_type": "code",
   "execution_count": 3,
   "id": "df8f28c9",
   "metadata": {},
   "outputs": [],
   "source": [
    "# Load data from the 'drowsy' and 'not_drowsy' folders\n",
    "drowsy_data = load_data(\"D:\\PROJECTS\\DROWSINESS_DETECTION\\Driver Drowsiness Dataset (DDD)\\Drowsy\", 1)\n",
    "not_drowsy_data = load_data(r\"D:\\PROJECTS\\DROWSINESS_DETECTION\\Driver Drowsiness Dataset (DDD)\\Non Drowsy\", 0)\n",
    "\n",
    "# Combine the data and labels into a single DataFrame\n",
    "data = drowsy_data + not_drowsy_data\n",
    "df = pd.DataFrame(data, columns=[\"image\", \"label\"])\n",
    "\n",
    "# Shuffle the DataFrame\n",
    "df = df.sample(frac=1).reset_index(drop=True)"
   ]
  },
  {
   "cell_type": "code",
   "execution_count": 6,
   "id": "83291cb0-a9b8-4c50-829f-e4d6bcf1e6e9",
   "metadata": {},
   "outputs": [
    {
     "data": {
      "text/html": [
       "<div>\n",
       "<style scoped>\n",
       "    .dataframe tbody tr th:only-of-type {\n",
       "        vertical-align: middle;\n",
       "    }\n",
       "\n",
       "    .dataframe tbody tr th {\n",
       "        vertical-align: top;\n",
       "    }\n",
       "\n",
       "    .dataframe thead th {\n",
       "        text-align: right;\n",
       "    }\n",
       "</style>\n",
       "<table border=\"1\" class=\"dataframe\">\n",
       "  <thead>\n",
       "    <tr style=\"text-align: right;\">\n",
       "      <th></th>\n",
       "      <th>image</th>\n",
       "      <th>label</th>\n",
       "    </tr>\n",
       "  </thead>\n",
       "  <tbody>\n",
       "    <tr>\n",
       "      <th>0</th>\n",
       "      <td>[[[0.09019607843137255, 0.13725490196078433, 0...</td>\n",
       "      <td>1</td>\n",
       "    </tr>\n",
       "    <tr>\n",
       "      <th>1</th>\n",
       "      <td>[[[0.09411764705882353, 0.1607843137254902, 0....</td>\n",
       "      <td>1</td>\n",
       "    </tr>\n",
       "    <tr>\n",
       "      <th>2</th>\n",
       "      <td>[[[0.6352941176470588, 0.7254901960784313, 0.8...</td>\n",
       "      <td>1</td>\n",
       "    </tr>\n",
       "    <tr>\n",
       "      <th>3</th>\n",
       "      <td>[[[0.8274509803921568, 0.9411764705882353, 1.0...</td>\n",
       "      <td>1</td>\n",
       "    </tr>\n",
       "    <tr>\n",
       "      <th>4</th>\n",
       "      <td>[[[0.0392156862745098, 0.09803921568627451, 0....</td>\n",
       "      <td>1</td>\n",
       "    </tr>\n",
       "  </tbody>\n",
       "</table>\n",
       "</div>"
      ],
      "text/plain": [
       "                                               image  label\n",
       "0  [[[0.09019607843137255, 0.13725490196078433, 0...      1\n",
       "1  [[[0.09411764705882353, 0.1607843137254902, 0....      1\n",
       "2  [[[0.6352941176470588, 0.7254901960784313, 0.8...      1\n",
       "3  [[[0.8274509803921568, 0.9411764705882353, 1.0...      1\n",
       "4  [[[0.0392156862745098, 0.09803921568627451, 0....      1"
      ]
     },
     "execution_count": 6,
     "metadata": {},
     "output_type": "execute_result"
    }
   ],
   "source": [
    "df.head() "
   ]
  },
  {
   "cell_type": "code",
   "execution_count": 7,
   "id": "8c8c4c39-241d-4c1c-9050-64d25d74c168",
   "metadata": {},
   "outputs": [
    {
     "data": {
      "text/html": [
       "<div>\n",
       "<style scoped>\n",
       "    .dataframe tbody tr th:only-of-type {\n",
       "        vertical-align: middle;\n",
       "    }\n",
       "\n",
       "    .dataframe tbody tr th {\n",
       "        vertical-align: top;\n",
       "    }\n",
       "\n",
       "    .dataframe thead th {\n",
       "        text-align: right;\n",
       "    }\n",
       "</style>\n",
       "<table border=\"1\" class=\"dataframe\">\n",
       "  <thead>\n",
       "    <tr style=\"text-align: right;\">\n",
       "      <th></th>\n",
       "      <th>image</th>\n",
       "      <th>label</th>\n",
       "    </tr>\n",
       "  </thead>\n",
       "  <tbody>\n",
       "    <tr>\n",
       "      <th>12689</th>\n",
       "      <td>[[[0.8666666666666667, 0.9098039215686274, 0.9...</td>\n",
       "      <td>0</td>\n",
       "    </tr>\n",
       "    <tr>\n",
       "      <th>12690</th>\n",
       "      <td>[[[0.34901960784313724, 0.44313725490196076, 0...</td>\n",
       "      <td>1</td>\n",
       "    </tr>\n",
       "    <tr>\n",
       "      <th>12691</th>\n",
       "      <td>[[[0.25882352941176473, 0.34901960784313724, 1...</td>\n",
       "      <td>0</td>\n",
       "    </tr>\n",
       "    <tr>\n",
       "      <th>12692</th>\n",
       "      <td>[[[0.8235294117647058, 0.9019607843137255, 0.9...</td>\n",
       "      <td>1</td>\n",
       "    </tr>\n",
       "    <tr>\n",
       "      <th>12693</th>\n",
       "      <td>[[[0.7176470588235294, 0.796078431372549, 0.88...</td>\n",
       "      <td>1</td>\n",
       "    </tr>\n",
       "  </tbody>\n",
       "</table>\n",
       "</div>"
      ],
      "text/plain": [
       "                                                   image  label\n",
       "12689  [[[0.8666666666666667, 0.9098039215686274, 0.9...      0\n",
       "12690  [[[0.34901960784313724, 0.44313725490196076, 0...      1\n",
       "12691  [[[0.25882352941176473, 0.34901960784313724, 1...      0\n",
       "12692  [[[0.8235294117647058, 0.9019607843137255, 0.9...      1\n",
       "12693  [[[0.7176470588235294, 0.796078431372549, 0.88...      1"
      ]
     },
     "execution_count": 7,
     "metadata": {},
     "output_type": "execute_result"
    }
   ],
   "source": [
    "df.tail()"
   ]
  }
 ],
 "metadata": {
  "kernelspec": {
   "display_name": "Python 3 (ipykernel)",
   "language": "python",
   "name": "python3"
  },
  "language_info": {
   "codemirror_mode": {
    "name": "ipython",
    "version": 3
   },
   "file_extension": ".py",
   "mimetype": "text/x-python",
   "name": "python",
   "nbconvert_exporter": "python",
   "pygments_lexer": "ipython3",
   "version": "3.10.7"
  }
 },
 "nbformat": 4,
 "nbformat_minor": 5
}
